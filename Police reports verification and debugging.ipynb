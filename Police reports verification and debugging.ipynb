{
 "cells": [
  {
   "cell_type": "markdown",
   "metadata": {},
   "source": [
    "# How do we know we aren't wrong?\n",
    "Just because the code does something doesn't mean it's doing what I expect it to do. Various offshoots of the SPD police reports project to confirm that things are working as expected.\n",
    "\n",
    "## Window noise and face validity\n",
    "Purely on gut instinct, comparing a year before to a year after seems like the most fair way to compare crime rates - some kinds of crime are likely to vary by season (more noise complaints in summer, more DUIs in the summer and around holidays, etc.). How much variability is there from season to season in the dataset? Can we fairly compare Q1 to Q3, etc.?"
   ]
  },
  {
   "cell_type": "code",
   "execution_count": null,
   "metadata": {},
   "outputs": [],
   "source": []
  },
  {
   "cell_type": "markdown",
   "metadata": {},
   "source": [
    "How do the standard deviations compare when using a 90-day window versus a 365-day window?"
   ]
  },
  {
   "cell_type": "code",
   "execution_count": null,
   "metadata": {},
   "outputs": [],
   "source": []
  },
  {
   "cell_type": "markdown",
   "metadata": {},
   "source": [
    "## Dealing with the burglary-other and robbery-other cases\n",
    "Is there a clean and simple way to back-populate those blank crime subcategory columns that won't break something else?"
   ]
  },
  {
   "cell_type": "code",
   "execution_count": null,
   "metadata": {},
   "outputs": [],
   "source": []
  },
  {
   "cell_type": "markdown",
   "metadata": {},
   "source": [
    "## Am I sure the within_window dataframe is being generated correctly?\n",
    "First attempt at generating the within_window dataframe resulted in some entries with dates outside the window being included; using datetime.datetime instead of datetime.date seemed to resolve that, but since I don't understand why the fix worked, I want to do some experimentation to make sure that\n",
    "1. The fix worked\n",
    "2. The error can be repeated"
   ]
  },
  {
   "cell_type": "code",
   "execution_count": null,
   "metadata": {},
   "outputs": [],
   "source": []
  },
  {
   "cell_type": "code",
   "execution_count": null,
   "metadata": {},
   "outputs": [],
   "source": []
  }
 ],
 "metadata": {
  "kernelspec": {
   "display_name": "Python 3",
   "language": "python",
   "name": "python3"
  },
  "language_info": {
   "codemirror_mode": {
    "name": "ipython",
    "version": 3
   },
   "file_extension": ".py",
   "mimetype": "text/x-python",
   "name": "python",
   "nbconvert_exporter": "python",
   "pygments_lexer": "ipython3",
   "version": "3.7.1"
  }
 },
 "nbformat": 4,
 "nbformat_minor": 2
}
